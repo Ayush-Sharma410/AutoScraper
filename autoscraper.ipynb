{
  "nbformat": 4,
  "nbformat_minor": 0,
  "metadata": {
    "colab": {
      "provenance": [],
      "include_colab_link": true
    },
    "kernelspec": {
      "name": "python3",
      "display_name": "Python 3"
    },
    "language_info": {
      "name": "python"
    }
  },
  "cells": [
    {
      "cell_type": "markdown",
      "metadata": {
        "id": "view-in-github",
        "colab_type": "text"
      },
      "source": [
        "<a href=\"https://colab.research.google.com/github/Ayush-Sharma410/AutoScraper/blob/main/autoscraper.ipynb\" target=\"_parent\"><img src=\"https://colab.research.google.com/assets/colab-badge.svg\" alt=\"Open In Colab\"/></a>"
      ]
    },
    {
      "cell_type": "code",
      "execution_count": null,
      "metadata": {
        "id": "jIenIrxN1g4s"
      },
      "outputs": [],
      "source": [
        "!pip install autoscraper\n",
        "from autoscraper import AutoScraper\n",
        "from csv import writer\n",
        "import requests"
      ]
    },
    {
      "cell_type": "code",
      "source": [
        "url = 'https://www.1mg.com/drugs/augmentin-625-duo-tablet-138629'\n",
        "wanted_list=[\"Augmentin 625 Duo Tablet\",\"Amoxycillin (500mg) + Clavulanic Acid (125mg)\",\"Glaxo SmithKline Pharmaceuticals Ltd\",\"₹156.75\"]\n",
        "scraper = AutoScraper()\n",
        "# html_content = requests.get(url).text\n",
        "scraper.build(url,wanted_list)\n",
        "groups=scraper.get_result_similar(url,grouped=True)\n",
        "print(groups)\n"
      ],
      "metadata": {
        "id": "wASnccCD1jU5"
      },
      "execution_count": null,
      "outputs": []
    },
    {
      "cell_type": "markdown",
      "source": [],
      "metadata": {
        "id": "cfaMSKkD-fhQ"
      }
    },
    {
      "cell_type": "code",
      "source": [
        "groups.keys()\n",
        "med_list=list(groups)\n",
        "print(med_list[0])\n"
      ],
      "metadata": {
        "id": "6ws7-sZUjFSk"
      },
      "execution_count": null,
      "outputs": []
    },
    {
      "cell_type": "code",
      "source": [
        "result=scraper.set_rule_aliases({med_list[0]:\"Title\",med_list[2]:'salts',med_list[3]:\"price\"})\n",
        "scraper.keep_rules([med_list[0],med_list[2],med_list[3]])\n",
        "scraper.save('tata1mg')\n",
        "print(result)\n",
        "for i in range(0,len(result['Title'])):\n",
        "                 title=result['Title'][i]\n",
        "                 price=result['price'][i]\n",
        "                 \n",
        "                 info=[title]\n",
        "                 print(info)"
      ],
      "metadata": {
        "id": "8QSDOiWH2Ynt"
      },
      "execution_count": null,
      "outputs": []
    },
    {
      "cell_type": "code",
      "source": [
        "\n",
        "for i in range(0,7):\n",
        "          results=scraper.get_result_similar(\"https://www.1mg.com/categories/diabetes/diabetic-medicines-583?filter=true&pageNumber=\"+str(i),group_by_alias=True)\n",
        "          with open('google.csv', 'w',encoding='utf8', newline='') as f:\n",
        "              thewriter = writer(f)\n",
        "              information = ['Name']\n",
        "              thewriter.writerow(information)\n",
        "         \n",
        "              for i in range(0,len(results['Title'])):\n",
        "                 title=results['Title'][i]\n",
        "                 price=results['price'][i]\n",
        "                 \n",
        "                 info=[title]\n",
        "                 print(info)\n",
        "                 thewriter.writerow(info)"
      ],
      "metadata": {
        "id": "mTk5gpAj24Ep"
      },
      "execution_count": null,
      "outputs": []
    }
  ]
}